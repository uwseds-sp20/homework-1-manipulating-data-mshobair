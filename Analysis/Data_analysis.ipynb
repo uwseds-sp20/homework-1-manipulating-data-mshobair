{
 "cells": [
  {
   "cell_type": "markdown",
   "metadata": {},
   "source": [
    "This notebook goes through data analysis of counts of bicycles crossing the Fremont Bridge since 2012. The CSV file was downloaded from: https://data.seattle.gov/api/views/65db-xm6k/rows.csv?accessType=DOWNLOAD\n",
    "\n",
    "The HW assignment requires two packages: pandas and matplotlib."
   ]
  },
  {
   "cell_type": "code",
   "execution_count": 54,
   "metadata": {},
   "outputs": [],
   "source": [
    "#  loading libraries\n",
    "import pandas as pd\n",
    "import matplotlib\n",
    "import re\n",
    "import datetime as dt\n",
    "\n"
   ]
  },
  {
   "cell_type": "markdown",
   "metadata": {},
   "source": [
    "# Read the CSV file into a pandas dataframe."
   ]
  },
  {
   "cell_type": "code",
   "execution_count": 9,
   "metadata": {},
   "outputs": [],
   "source": [
    "counts_df = pd.read_csv(\"Data/Fremont_Bridge_Bicycle_Counter.csv\")"
   ]
  },
  {
   "cell_type": "markdown",
   "metadata": {},
   "source": [
    "# Add columns to the dataframe"
   ]
  },
  {
   "cell_type": "code",
   "execution_count": 88,
   "metadata": {},
   "outputs": [],
   "source": [
    "# sum of East and West counts\n",
    "counts_df['Sum_East_West'] = counts_df['Fremont Bridge East Sidewalk'] + counts_df['Fremont Bridge West Sidewalk']\n",
    "# hour of the day\n",
    "datetime = pd.to_datetime(counts_df['Date']).dt.strftime('%H:%M:%S')\n",
    "counts_df['Hour'] = pd.to_datetime(datetime).dt.hour\n"
   ]
  }
 ],
 "metadata": {
  "kernelspec": {
   "display_name": "Python 3",
   "language": "python",
   "name": "python3"
  },
  "language_info": {
   "codemirror_mode": {
    "name": "ipython",
    "version": 3
   },
   "file_extension": ".py",
   "mimetype": "text/x-python",
   "name": "python",
   "nbconvert_exporter": "python",
   "pygments_lexer": "ipython3",
   "version": "3.6.9"
  }
 },
 "nbformat": 4,
 "nbformat_minor": 2
}
